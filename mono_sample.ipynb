{
  "nbformat": 4,
  "nbformat_minor": 0,
  "metadata": {
    "colab": {
      "name": "mono_sample.ipynb",
      "provenance": []
    },
    "kernelspec": {
      "name": "python3",
      "display_name": "Python 3"
    },
    "language_info": {
      "name": "python"
    }
  },
  "cells": [
    {
      "cell_type": "code",
      "source": [
        "!pip install transformers[sentencepiece]"
      ],
      "metadata": {
        "id": "HGILvnwdWsbS"
      },
      "execution_count": null,
      "outputs": []
    },
    {
      "cell_type": "code",
      "source": [
        "# Imports \n",
        "import torch \n",
        "from transformers import AutoModelForSequenceClassification, AutoTokenizer\n",
        "\n",
        "def model_nlp(raw_inputs):\n",
        "  # Define the model checkpoint\n",
        "  checkpoint = \"Chijioke/autonlp-mono-625317956\"\n",
        "\n",
        "  # Download and cache the tokenizer and classification model\n",
        "  tokenizer = AutoTokenizer.from_pretrained(checkpoint)\n",
        "  model = AutoModelForSequenceClassification.from_pretrained(checkpoint)\n",
        " \n",
        "  # Tokenize the inputs\n",
        "  inputs = tokenizer(raw_inputs, padding=True, truncation=True, return_tensors=\"pt\")\n",
        "  outputs = model(**inputs)\n",
        "\n",
        "  # Find the label to class mapping for verification\n",
        "  outputs = torch.nn.functional.softmax(outputs.logits, dim=-1)\n",
        "  pred = [y for x,y in model.config.id2label.items() if x == outputs.argmax()]\n",
        "  return pred[0]"
      ],
      "metadata": {
        "id": "7Otr9JWhf6jo"
      },
      "execution_count": 66,
      "outputs": []
    },
    {
      "cell_type": "code",
      "source": [
        "raw_inputs = \"nibss instant payment outward salary to dbn joy chioma anujuru  tafawa balewa\"\n",
        "model_nlp(raw_inputs)"
      ],
      "metadata": {
        "colab": {
          "base_uri": "https://localhost:8080/",
          "height": 35
        },
        "id": "q-wE5uY7gsVz",
        "outputId": "a5abf8ee-25ed-45b0-a6d7-3c3f5fb4c505"
      },
      "execution_count": 67,
      "outputs": [
        {
          "output_type": "execute_result",
          "data": {
            "text/plain": [
              "'salary'"
            ],
            "application/vnd.google.colaboratory.intrinsic+json": {
              "type": "string"
            }
          },
          "metadata": {},
          "execution_count": 67
        }
      ]
    },
    {
      "cell_type": "code",
      "source": [
        "!pip install gradio"
      ],
      "metadata": {
        "id": "NjUb2ki5eeqn"
      },
      "execution_count": null,
      "outputs": []
    },
    {
      "cell_type": "code",
      "source": [
        "import gradio as gr"
      ],
      "metadata": {
        "id": "e2l9IUNDlbJ7"
      },
      "execution_count": 56,
      "outputs": []
    },
    {
      "cell_type": "code",
      "source": [
        "iface = gr.Interface(fn=model_nlp, inputs=[\"text\"], outputs=[\"text\"]).launch()"
      ],
      "metadata": {
        "colab": {
          "base_uri": "https://localhost:8080/",
          "height": 612
        },
        "id": "_-WDPV1nlQSZ",
        "outputId": "b477531d-1ac2-4e06-8e1c-c2c2b6e5f10d"
      },
      "execution_count": 69,
      "outputs": [
        {
          "output_type": "stream",
          "name": "stdout",
          "text": [
            "Colab notebook detected. To show errors in colab notebook, set `debug=True` in `launch()`\n",
            "Running on public URL: https://59199.gradio.app\n",
            "\n",
            "This share link expires in 72 hours. For free permanent hosting, check out Spaces (https://huggingface.co/spaces)\n"
          ]
        },
        {
          "output_type": "display_data",
          "data": {
            "text/plain": [
              "<IPython.lib.display.IFrame at 0x7f17e1d28a50>"
            ],
            "text/html": [
              "\n",
              "        <iframe\n",
              "            width=\"900\"\n",
              "            height=\"500\"\n",
              "            src=\"https://59199.gradio.app\"\n",
              "            frameborder=\"0\"\n",
              "            allowfullscreen\n",
              "        ></iframe>\n",
              "        "
            ]
          },
          "metadata": {}
        }
      ]
    },
    {
      "cell_type": "code",
      "source": [
        ""
      ],
      "metadata": {
        "id": "T1_PjXnXlY_0"
      },
      "execution_count": null,
      "outputs": []
    }
  ]
}